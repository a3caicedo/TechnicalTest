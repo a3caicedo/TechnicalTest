{
  "nbformat": 4,
  "nbformat_minor": 0,
  "metadata": {
    "colab": {
      "name": "TechnicalTestSecurityAutomationEngineer.ipynb",
      "provenance": [],
      "collapsed_sections": [],
      "authorship_tag": "ABX9TyNjfowmQXf+jmaaCClFF1EC",
      "include_colab_link": true
    },
    "kernelspec": {
      "name": "python3",
      "display_name": "Python 3"
    },
    "language_info": {
      "name": "python"
    }
  },
  "cells": [
    {
      "cell_type": "markdown",
      "metadata": {
        "id": "view-in-github",
        "colab_type": "text"
      },
      "source": [
        "<a href=\"https://colab.research.google.com/github/a3caicedo/TechnicalTest/blob/main/TechnicalTestSecurityAutomationEngineer.ipynb\" target=\"_parent\"><img src=\"https://colab.research.google.com/assets/colab-badge.svg\" alt=\"Open In Colab\"/></a>"
      ]
    },
    {
      "cell_type": "code",
      "execution_count": 1,
      "metadata": {
        "colab": {
          "base_uri": "https://localhost:8080/"
        },
        "id": "Cut8RMCE-D5O",
        "outputId": "10ecb28c-abba-4e51-e6d7-0dd49f4302ae"
      },
      "outputs": [
        {
          "output_type": "stream",
          "name": "stdout",
          "text": [
            "Requirement already satisfied: pandas in /usr/local/lib/python3.7/dist-packages (1.3.5)\n",
            "Requirement already satisfied: pytz>=2017.3 in /usr/local/lib/python3.7/dist-packages (from pandas) (2018.9)\n",
            "Requirement already satisfied: numpy>=1.17.3 in /usr/local/lib/python3.7/dist-packages (from pandas) (1.21.5)\n",
            "Requirement already satisfied: python-dateutil>=2.7.3 in /usr/local/lib/python3.7/dist-packages (from pandas) (2.8.2)\n",
            "Requirement already satisfied: six>=1.5 in /usr/local/lib/python3.7/dist-packages (from python-dateutil>=2.7.3->pandas) (1.15.0)\n",
            "Collecting OTXv2\n",
            "  Downloading OTXv2-1.5.12-py3-none-any.whl (16 kB)\n",
            "Requirement already satisfied: requests in /usr/local/lib/python3.7/dist-packages (from OTXv2) (2.23.0)\n",
            "Requirement already satisfied: pytz in /usr/local/lib/python3.7/dist-packages (from OTXv2) (2018.9)\n",
            "Requirement already satisfied: python-dateutil in /usr/local/lib/python3.7/dist-packages (from OTXv2) (2.8.2)\n",
            "Requirement already satisfied: six>=1.5 in /usr/local/lib/python3.7/dist-packages (from python-dateutil->OTXv2) (1.15.0)\n",
            "Requirement already satisfied: certifi>=2017.4.17 in /usr/local/lib/python3.7/dist-packages (from requests->OTXv2) (2021.10.8)\n",
            "Requirement already satisfied: chardet<4,>=3.0.2 in /usr/local/lib/python3.7/dist-packages (from requests->OTXv2) (3.0.4)\n",
            "Requirement already satisfied: urllib3!=1.25.0,!=1.25.1,<1.26,>=1.21.1 in /usr/local/lib/python3.7/dist-packages (from requests->OTXv2) (1.24.3)\n",
            "Requirement already satisfied: idna<3,>=2.5 in /usr/local/lib/python3.7/dist-packages (from requests->OTXv2) (2.10)\n",
            "Installing collected packages: OTXv2\n",
            "Successfully installed OTXv2-1.5.12\n"
          ]
        }
      ],
      "source": [
        "!pip install pandas\n",
        "!pip install OTXv2"
      ]
    },
    {
      "cell_type": "code",
      "source": [
        "#https://github.com/AlienVault-OTX/OTX-Python-SDK/blob/master/examples/is_malicious/get_malicious.py\n",
        "\n",
        "#!/usr/bin/env python\n",
        "\n",
        "import IndicatorTypes\n",
        "\n",
        "# Get a nested key from a dict, without having to do loads of ifs\n",
        "def getValue(results, keys):\n",
        "    if type(keys) is list and len(keys) > 0:\n",
        "\n",
        "        if type(results) is dict:\n",
        "            key = keys.pop(0)\n",
        "            if key in results:\n",
        "                return getValue(results[key], keys)\n",
        "            else:\n",
        "                return None\n",
        "        else:\n",
        "            if type(results) is list and len(results) > 0:\n",
        "                return getValue(results[0], keys)\n",
        "            else:\n",
        "                return results\n",
        "    else:\n",
        "        return results\n",
        "\n",
        "def query_ip(otx, ip):\n",
        "    alerts = []\n",
        "    result = otx.get_indicator_details_by_section(IndicatorTypes.IPv4, ip, 'general')\n",
        "\n",
        "    # Return nothing if it's in the whitelist\n",
        "    validation = getValue(result, ['validation'])\n",
        "    if not validation:\n",
        "        pulses = getValue(result, ['pulse_info', 'pulses'])\n",
        "        if pulses:\n",
        "            for pulse in pulses:\n",
        "                if 'name' in pulse:\n",
        "                    alerts.append(pulse['name'])\n",
        "\n",
        "    return alerts"
      ],
      "metadata": {
        "id": "DMb-Es-FQoiy"
      },
      "execution_count": 6,
      "outputs": []
    },
    {
      "cell_type": "code",
      "source": [
        "from numpy import nan\n",
        "from OTXv2 import OTXv2\n",
        "from OTXv2 import IndicatorTypes\n",
        "import pandas as pd\n",
        "import datetime\n",
        "\n",
        "otx = OTXv2(\"ApiKey\")\n",
        "ips = ['101.43.65.150', '101.43.32.173', '78.128.113.14', '106.55.153.204', '104.243.41.123']\n",
        "\n",
        "pulses = pd.DataFrame()\n",
        "\n",
        "for ip in ips:\n",
        "  alerts = query_ip(otx, ip)\n",
        "  for alert in alerts:\n",
        "    values = [x.strip() for x in alert.split('|')]\n",
        "    date = None if len(values) == 1 else datetime.datetime.strptime(values[1], '%m/%d/%Y')\n",
        "    pulses = pulses.append({'ip': ip, 'inPulse': values[0], 'Date': date}, ignore_index=True)\n",
        "\n",
        "pulses.to_csv('report.csv',  index=False, encoding='utf-8')"
      ],
      "metadata": {
        "id": "LUo8vwYk_hvC"
      },
      "execution_count": 7,
      "outputs": []
    }
  ]
}